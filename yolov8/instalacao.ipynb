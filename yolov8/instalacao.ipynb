{
 "cells": [
  {
   "cell_type": "markdown",
   "id": "e383f5fd-e4cd-49da-a70f-a5f20dc3a098",
   "metadata": {},
   "source": [
    "##### **Instalar Anaconda ou Miniconda**\n",
    "##### Download Anaconda: https://www.anaconda.com/products/distribution\n",
    "##### Download Miniconda: https://docs.conda.io/en/latest/miniconda.html\n",
    "\n",
    "##### **Criar e ativar o ambiente**\n",
    "!conda create --name granito python=3.9\n",
    "!conda activate granito\n",
    "\n",
    "##### **Instalar todas as dependências**\n",
    "!pip install -r requirements.txt\n",
    "\n",
    "##### **Instalar roboflow**\n",
    "!pip install roboflow\n",
    "\n",
    "\n",
    "##### **Instalar Jupyter Notebook**\n",
    "!conda install jupyter\n",
    "\n",
    "##### **Instalar TensorBoard (opcional)**\n",
    "!conda install -c conda-forge tensorboard\n",
    "\n",
    "##### **Iniciar o Jupyter Notebook**\n",
    "jupyter notebook\n",
    "\n",
    "\n",
    "##### **requirements.txt**\n",
    "torch\n",
    "\n",
    "torchvision\n",
    "\n",
    "matplotlib\n",
    "\n",
    "opencv-python-headless\n",
    "\n",
    "pyyaml\n",
    "\n",
    "ultralytics\n",
    "\n",
    "scikit-learn\n",
    "\n",
    "roboflow\n"
   ]
  }
 ],
 "metadata": {
  "kernelspec": {
   "display_name": "Python 3 (ipykernel)",
   "language": "python",
   "name": "python3"
  },
  "language_info": {
   "codemirror_mode": {
    "name": "ipython",
    "version": 3
   },
   "file_extension": ".py",
   "mimetype": "text/x-python",
   "name": "python",
   "nbconvert_exporter": "python",
   "pygments_lexer": "ipython3",
   "version": "3.9.6"
  }
 },
 "nbformat": 4,
 "nbformat_minor": 5
}
